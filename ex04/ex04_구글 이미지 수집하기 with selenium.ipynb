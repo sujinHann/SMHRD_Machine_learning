{
 "cells": [
  {
   "cell_type": "code",
   "execution_count": 14,
   "metadata": {
    "id": "uOMKjBqr3ClP"
   },
   "outputs": [],
   "source": [
    "from selenium import webdriver as wb # 브라우저를 조작하는 도구\n",
    "from selenium.webdriver.common.keys import Keys # 키 입력을 도와주는 도구(키보드)\n",
    "from bs4 import BeautifulSoup as bs # 문서를 파싱해서 선택자 활용을 도와주는 도구\n",
    "from tqdm import tqdm # 반복문 진행 정도를 시각화해주는 도구\n",
    "from urllib.request import urlretrieve # 이미지 다운로드를 도와주는 도구\n",
    "import time # 시간제어 도구\n",
    "import os # 폴더 생성,삭제,이동 등을 도와주는 도구"
   ]
  },
  {
   "cell_type": "code",
   "execution_count": 15,
   "metadata": {
    "id": "Bds40KZtOMod"
   },
   "outputs": [],
   "source": [
    "keyword = \"사막여우\""
   ]
  },
  {
   "cell_type": "code",
   "execution_count": 16,
   "metadata": {
    "id": "_nB1Eunx3ClR"
   },
   "outputs": [],
   "source": [
    "# 이미지가 저장될 폴더 생성\n",
    "# 해당 폴더가 있는지 확인\n",
    "if os.path.isdir('./{}'.format(keyword)) == False :\n",
    "    os.mkdir('./{}'.format(keyword)) # 폴더 생성"
   ]
  },
  {
   "cell_type": "code",
   "execution_count": 17,
   "metadata": {
    "id": "5r62pE-I3ClR",
    "outputId": "802faf85-33a0-4fcb-ebd1-76fa01ec45f3"
   },
   "outputs": [
    {
     "name": "stderr",
     "output_type": "stream",
     "text": [
      "100%|██████████| 48/48 [00:03<00:00, 12.58it/s] \n",
      "C:\\Users\\smhrd\\AppData\\Local\\Temp/ipykernel_15800/3465728368.py:39: DeprecationWarning: find_element_by_css_selector is deprecated. Please use find_element(by=By.CSS_SELECTOR, value=css_selector) instead\n",
      "  driver.find_element_by_css_selector('body').send_keys(Keys.PAGE_DOWN)\n",
      "0it [00:00, ?it/s]\n",
      "0it [00:00, ?it/s]\n",
      "0it [00:00, ?it/s]\n",
      "0it [00:00, ?it/s]\n",
      "0it [00:00, ?it/s]\n",
      "0it [00:00, ?it/s]\n",
      "0it [00:00, ?it/s]\n",
      "0it [00:00, ?it/s]\n",
      "0it [00:00, ?it/s]\n"
     ]
    }
   ],
   "source": [
    "url = 'https://www.google.com/search?q={}&source=lnms&tbm=isch&sa=X&ved=2ahUKEwjs85-GsN7vAhX4xYsBHR6aBg0Q_AUoAXoECAEQAw&biw=1745&bih=852'.format(keyword)\n",
    "\n",
    "driver = wb.Chrome() # 브라우져 생성\n",
    "driver.get(url) # url 요청\n",
    "time.sleep(5) # 페이지 로딩까지 5초 대기\n",
    "\n",
    "cnt = 0\n",
    "pre_img_src = [] # 이전에 다운로드된 경로\n",
    "\n",
    "for j in range(10) :\n",
    "    img_html = bs(driver.page_source,'html.parser')\n",
    "\n",
    "    # 이미지 태그 수집\n",
    "    images = img_html.select('img.rg_i.Q4LuWd')\n",
    "\n",
    "    # 이미지 태그의 src 속성 값 추출\n",
    "    img_src = []\n",
    "    for img in images :\n",
    "        src = img.get('src')\n",
    "        if src != None : # img 태그에 src 속성이 없는 경우\n",
    "            if src not in pre_img_src : # 이전에 다운로드한 경로에 있는지 검사\n",
    "                img_src.append(src)\n",
    "        else : # img 태그에 src 속성이 있는 경우\n",
    "            src = img.get('data-src')\n",
    "            if src not in pre_img_src :\n",
    "                img_src.append(src)\n",
    "\n",
    "    # 파일 다운로드\n",
    "    # img_src를 반복문으로 돌면서 저장, tqdm 사용\n",
    "    for src in tqdm(img_src) :\n",
    "        cnt += 1\n",
    "        urlretrieve(src,'./{}/{}.png'.format(keyword,cnt))\n",
    "\n",
    "\n",
    "    pre_img_src += img_src # 다운로드한 경로를 이전 리스트에 추가    \n",
    "        \n",
    "    # 화면 스크롤\n",
    "    for i in range(6):\n",
    "        driver.find_element_by_css_selector('body').send_keys(Keys.PAGE_DOWN)\n",
    "        time.sleep(1)"
   ]
  }
 ],
 "metadata": {
  "colab": {
   "collapsed_sections": [],
   "name": "ex04_구글 이미지 수집하기 with selenium.ipynb",
   "provenance": []
  },
  "kernelspec": {
   "display_name": "Python 3 (ipykernel)",
   "language": "python",
   "name": "python3"
  },
  "language_info": {
   "codemirror_mode": {
    "name": "ipython",
    "version": 3
   },
   "file_extension": ".py",
   "mimetype": "text/x-python",
   "name": "python",
   "nbconvert_exporter": "python",
   "pygments_lexer": "ipython3",
   "version": "3.9.7"
  }
 },
 "nbformat": 4,
 "nbformat_minor": 1
}
