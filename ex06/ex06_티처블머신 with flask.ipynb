{
 "cells": [
  {
   "cell_type": "code",
   "execution_count": 1,
   "id": "44436f27",
   "metadata": {
    "scrolled": true
   },
   "outputs": [
    {
     "name": "stdout",
     "output_type": "stream",
     "text": [
      "Requirement already satisfied: flask in c:\\users\\smhrd\\anaconda3\\envs\\animal\\lib\\site-packages (2.1.1)\n",
      "Requirement already satisfied: itsdangerous>=2.0 in c:\\users\\smhrd\\anaconda3\\envs\\animal\\lib\\site-packages (from flask) (2.1.2)\n",
      "Requirement already satisfied: importlib-metadata>=3.6.0 in c:\\users\\smhrd\\anaconda3\\envs\\animal\\lib\\site-packages (from flask) (4.11.3)\n",
      "Requirement already satisfied: click>=8.0 in c:\\users\\smhrd\\anaconda3\\envs\\animal\\lib\\site-packages (from flask) (8.0.4)\n",
      "Requirement already satisfied: Werkzeug>=2.0 in c:\\users\\smhrd\\anaconda3\\envs\\animal\\lib\\site-packages (from flask) (2.0.3)\n",
      "Requirement already satisfied: Jinja2>=3.0 in c:\\users\\smhrd\\anaconda3\\envs\\animal\\lib\\site-packages (from flask) (3.0.3)\n",
      "Requirement already satisfied: colorama in c:\\users\\smhrd\\anaconda3\\envs\\animal\\lib\\site-packages (from click>=8.0->flask) (0.4.4)\n",
      "Requirement already satisfied: zipp>=0.5 in c:\\users\\smhrd\\anaconda3\\envs\\animal\\lib\\site-packages (from importlib-metadata>=3.6.0->flask) (3.7.0)\n",
      "Requirement already satisfied: typing-extensions>=3.6.4 in c:\\users\\smhrd\\anaconda3\\envs\\animal\\lib\\site-packages (from importlib-metadata>=3.6.0->flask) (4.1.1)\n",
      "Requirement already satisfied: MarkupSafe>=2.0 in c:\\users\\smhrd\\anaconda3\\envs\\animal\\lib\\site-packages (from Jinja2>=3.0->flask) (2.0.1)\n"
     ]
    }
   ],
   "source": [
    "#분석용 서버 구축을 위한 flask 설치\n",
    "!pip install flask"
   ]
  },
  {
   "cell_type": "code",
   "execution_count": 2,
   "id": "41a192cc",
   "metadata": {
    "scrolled": true
   },
   "outputs": [
    {
     "name": "stdout",
     "output_type": "stream",
     "text": [
      "Requirement already satisfied: matplotlib in c:\\users\\smhrd\\anaconda3\\envs\\animal\\lib\\site-packages (3.5.1)\n",
      "Requirement already satisfied: pyparsing>=2.2.1 in c:\\users\\smhrd\\anaconda3\\envs\\animal\\lib\\site-packages (from matplotlib) (3.0.4)\n",
      "Requirement already satisfied: pillow>=6.2.0 in c:\\users\\smhrd\\anaconda3\\envs\\animal\\lib\\site-packages (from matplotlib) (9.1.0)\n",
      "Requirement already satisfied: packaging>=20.0 in c:\\users\\smhrd\\anaconda3\\envs\\animal\\lib\\site-packages (from matplotlib) (21.3)\n",
      "Requirement already satisfied: numpy>=1.17 in c:\\users\\smhrd\\anaconda3\\envs\\animal\\lib\\site-packages (from matplotlib) (1.21.5)\n",
      "Requirement already satisfied: python-dateutil>=2.7 in c:\\users\\smhrd\\anaconda3\\envs\\animal\\lib\\site-packages (from matplotlib) (2.8.2)\n",
      "Requirement already satisfied: kiwisolver>=1.0.1 in c:\\users\\smhrd\\anaconda3\\envs\\animal\\lib\\site-packages (from matplotlib) (1.4.2)\n",
      "Requirement already satisfied: cycler>=0.10 in c:\\users\\smhrd\\anaconda3\\envs\\animal\\lib\\site-packages (from matplotlib) (0.11.0)\n",
      "Requirement already satisfied: fonttools>=4.22.0 in c:\\users\\smhrd\\anaconda3\\envs\\animal\\lib\\site-packages (from matplotlib) (4.32.0)\n",
      "Requirement already satisfied: typing-extensions in c:\\users\\smhrd\\anaconda3\\envs\\animal\\lib\\site-packages (from kiwisolver>=1.0.1->matplotlib) (4.1.1)\n",
      "Requirement already satisfied: six>=1.5 in c:\\users\\smhrd\\anaconda3\\envs\\animal\\lib\\site-packages (from python-dateutil>=2.7->matplotlib) (1.16.0)\n"
     ]
    }
   ],
   "source": [
    "!pip install matplotlib"
   ]
  },
  {
   "cell_type": "code",
   "execution_count": 3,
   "id": "590c480e",
   "metadata": {},
   "outputs": [
    {
     "name": "stdout",
     "output_type": "stream",
     "text": [
      "Requirement already satisfied: opencv-python in c:\\users\\smhrd\\anaconda3\\envs\\animal\\lib\\site-packages (4.5.5.64)\n",
      "Requirement already satisfied: numpy>=1.14.5 in c:\\users\\smhrd\\anaconda3\\envs\\animal\\lib\\site-packages (from opencv-python) (1.21.5)\n"
     ]
    }
   ],
   "source": [
    "# 영상처리분야에서 많이 쓰는 라이브러리\n",
    "!pip install opencv-python"
   ]
  },
  {
   "cell_type": "code",
   "execution_count": 4,
   "id": "34cb1bf6",
   "metadata": {},
   "outputs": [],
   "source": [
    "from flask import Flask, request, Response, redirect\n",
    "from tensorflow.keras.models import load_model\n",
    "import io #파이썬의 입출력을 도와주는 라이브러리\n",
    "import numpy as np\n",
    "import matplotlib.pyplot as plt\n",
    "import cv2 #opencv"
   ]
  },
  {
   "cell_type": "code",
   "execution_count": 6,
   "id": "e4a4dd37",
   "metadata": {},
   "outputs": [
    {
     "name": "stdout",
     "output_type": "stream",
     "text": [
      "WARNING:tensorflow:No training configuration found in the save file, so the model was *not* compiled. Compile it manually.\n",
      " * Serving Flask app '__main__' (lazy loading)\n",
      " * Environment: production\n",
      "\u001b[31m   WARNING: This is a development server. Do not use it in a production deployment.\u001b[0m\n",
      "\u001b[2m   Use a production WSGI server instead.\u001b[0m\n",
      " * Debug mode: off\n"
     ]
    },
    {
     "name": "stderr",
     "output_type": "stream",
     "text": [
      " * Running on http://127.0.0.1:5000/ (Press CTRL+C to quit)\n",
      "C:\\Users\\smhrd\\anaconda3\\envs\\animal\\lib\\site-packages\\ipykernel_launcher.py:18: DeprecationWarning: The binary mode of fromstring is deprecated, as it behaves surprisingly on unicode inputs. Use frombuffer instead\n",
      "127.0.0.1 - - [19/Apr/2022 11:06:27] \"POST /predict HTTP/1.1\" 302 -\n"
     ]
    },
    {
     "name": "stdout",
     "output_type": "stream",
     "text": [
      "[[5.7095706e-02 9.4266295e-01 2.4125540e-04]]\n"
     ]
    },
    {
     "name": "stderr",
     "output_type": "stream",
     "text": [
      "127.0.0.1 - - [19/Apr/2022 11:07:58] \"POST /predict HTTP/1.1\" 302 -\n"
     ]
    },
    {
     "name": "stdout",
     "output_type": "stream",
     "text": [
      "[[8.6148025e-04 9.9909067e-01 4.7844354e-05]]\n"
     ]
    }
   ],
   "source": [
    "#플라스크 객체 생성\n",
    "app = Flask(__name__)\n",
    "\n",
    "model = load_model('keras_model.h5')\n",
    "\n",
    "#사용자 요청을 처리하기 위한 라우터설정\n",
    "@app.route('/', methods=['GET','POST'])\n",
    "def index():\n",
    "    return redirect(\"http://localhost:8081/test1/result.jsp\")\n",
    "\n",
    "@app.route('/predict', methods=['GET','POST'])\n",
    "def predict():\n",
    "    if request.method == 'POST':\n",
    "        img = request.files['uploadImage']\n",
    "        input_stream = io.BytesIO() #byte 단위로 읽어들이는 통로\n",
    "        img.save(input_stream) #파일로부터 데이터를 읽기\n",
    "        data = np.fromstring(input_stream.getvalue(),\n",
    "                            dtype=np.uint8)\n",
    "        real_img = cv2.imdecode(data,1) # 1 => 컬러사진\n",
    "        real_img = cv2.cvtColor(real_img,cv2.COLOR_BGR2RGB) #BGR에서 RGBB\n",
    "        #이미지 크기 조절하기\n",
    "        resize_img = cv2.resize(real_img, dsize=(224,224), interpolation=cv2.INTER_AREA)\n",
    "        \n",
    "    \n",
    "        #이미지 확인하기 \n",
    "        #display(plt.imshow(resize_img))\n",
    "        #plt.show()\n",
    "        \n",
    "        #이미지 정규화(-1~1)\n",
    "        normalized_image = (np.array(resize_img,dtype=np.float32) / 127.0) - 1 \n",
    "        \n",
    "        #예측시킬 이미지 데이터를 넣은 변수\n",
    "        data = np.ndarray(shape=(1, 224, 224, 3), dtype=np.float32)\n",
    "        # 불러온 numpy 타입의 이미지를 변수에 대입\n",
    "        data[0] = normalized_image\n",
    "        # 예측\n",
    "        prediction = model.predict(data)\n",
    "        index = np.argmax(prediction[0]) #최대값의 인덱스\n",
    "        print(prediction)\n",
    "\n",
    "        #print(data.shape)\n",
    "        \n",
    "    return redirect(\"http://localhost:8081/test1/result.jsp?pre={}\".format(index))\n",
    "\n",
    "app.run() #서버구동"
   ]
  },
  {
   "cell_type": "code",
   "execution_count": null,
   "id": "cf1b4edf",
   "metadata": {},
   "outputs": [],
   "source": []
  },
  {
   "cell_type": "code",
   "execution_count": null,
   "id": "a697b9ca",
   "metadata": {},
   "outputs": [],
   "source": []
  },
  {
   "cell_type": "code",
   "execution_count": null,
   "id": "6b45db70",
   "metadata": {},
   "outputs": [],
   "source": []
  },
  {
   "cell_type": "code",
   "execution_count": null,
   "id": "c3c04fb5",
   "metadata": {},
   "outputs": [],
   "source": []
  }
 ],
 "metadata": {
  "kernelspec": {
   "display_name": "Python 3 (ipykernel)",
   "language": "python",
   "name": "python3"
  },
  "language_info": {
   "codemirror_mode": {
    "name": "ipython",
    "version": 3
   },
   "file_extension": ".py",
   "mimetype": "text/x-python",
   "name": "python",
   "nbconvert_exporter": "python",
   "pygments_lexer": "ipython3",
   "version": "3.7.13"
  }
 },
 "nbformat": 4,
 "nbformat_minor": 5
}
