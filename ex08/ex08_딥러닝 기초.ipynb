{
 "cells": [
  {
   "cell_type": "markdown",
   "id": "d633f6ac",
   "metadata": {},
   "source": [
    "### 딥러닝 라이브러리\n",
    "- tensorflow\n",
    "- keras"
   ]
  },
  {
   "cell_type": "code",
   "execution_count": 1,
   "id": "4c519e61",
   "metadata": {},
   "outputs": [],
   "source": [
    "from tensorflow.keras.datasets import mnist #손글씨데이터"
   ]
  },
  {
   "cell_type": "code",
   "execution_count": 4,
   "id": "44c2d442",
   "metadata": {},
   "outputs": [
    {
     "name": "stdout",
     "output_type": "stream",
     "text": [
      "Downloading data from https://storage.googleapis.com/tensorflow/tf-keras-datasets/mnist.npz\n",
      "11493376/11490434 [==============================] - 0s 0us/step\n"
     ]
    }
   ],
   "source": [
    "(X_train,y_train),(X_test,y_test) = mnist.load_data()"
   ]
  },
  {
   "cell_type": "code",
   "execution_count": 5,
   "id": "ab53a471",
   "metadata": {},
   "outputs": [
    {
     "data": {
      "text/plain": [
       "((60000, 28, 28), (60000,))"
      ]
     },
     "execution_count": 5,
     "metadata": {},
     "output_type": "execute_result"
    }
   ],
   "source": [
    "X_train.shape, y_train.shape"
   ]
  },
  {
   "cell_type": "code",
   "execution_count": 6,
   "id": "771521fe",
   "metadata": {},
   "outputs": [
    {
     "data": {
      "text/plain": [
       "((10000, 28, 28), (10000,))"
      ]
     },
     "execution_count": 6,
     "metadata": {},
     "output_type": "execute_result"
    }
   ],
   "source": [
    "X_test.shape, y_test.shape"
   ]
  },
  {
   "cell_type": "code",
   "execution_count": 7,
   "id": "dc6933ce",
   "metadata": {
    "scrolled": true
   },
   "outputs": [
    {
     "data": {
      "text/plain": [
       "array([[  0,   0,   0,   0,   0,   0,   0,   0,   0,   0,   0,   0,   0,\n",
       "          0,   0,   0,   0,   0,   0,   0,   0,   0,   0,   0,   0,   0,\n",
       "          0,   0],\n",
       "       [  0,   0,   0,   0,   0,   0,   0,   0,   0,   0,   0,   0,   0,\n",
       "          0,   0,   0,   0,   0,   0,   0,   0,   0,   0,   0,   0,   0,\n",
       "          0,   0],\n",
       "       [  0,   0,   0,   0,   0,   0,   0,   0,   0,   0,   0,   0,   0,\n",
       "          0,   0,   0,   0,   0,   0,   0,   0,   0,   0,   0,   0,   0,\n",
       "          0,   0],\n",
       "       [  0,   0,   0,   0,   0,   0,   0,   0,   0,   0,   0,   0,   0,\n",
       "          0,   0,   0,   0,   0,   0,   0,   0,   0,   0,   0,   0,   0,\n",
       "          0,   0],\n",
       "       [  0,   0,   0,   0,   0,   0,   0,   0,   0,   0,   0,   0,   0,\n",
       "          0,   0,   0,   0,   0,   0,   0,   0,   0,   0,   0,   0,   0,\n",
       "          0,   0],\n",
       "       [  0,   0,   0,   0,   0,   0,   0,   0,   0,   0,   0,   0,   3,\n",
       "         18,  18,  18, 126, 136, 175,  26, 166, 255, 247, 127,   0,   0,\n",
       "          0,   0],\n",
       "       [  0,   0,   0,   0,   0,   0,   0,   0,  30,  36,  94, 154, 170,\n",
       "        253, 253, 253, 253, 253, 225, 172, 253, 242, 195,  64,   0,   0,\n",
       "          0,   0],\n",
       "       [  0,   0,   0,   0,   0,   0,   0,  49, 238, 253, 253, 253, 253,\n",
       "        253, 253, 253, 253, 251,  93,  82,  82,  56,  39,   0,   0,   0,\n",
       "          0,   0],\n",
       "       [  0,   0,   0,   0,   0,   0,   0,  18, 219, 253, 253, 253, 253,\n",
       "        253, 198, 182, 247, 241,   0,   0,   0,   0,   0,   0,   0,   0,\n",
       "          0,   0],\n",
       "       [  0,   0,   0,   0,   0,   0,   0,   0,  80, 156, 107, 253, 253,\n",
       "        205,  11,   0,  43, 154,   0,   0,   0,   0,   0,   0,   0,   0,\n",
       "          0,   0],\n",
       "       [  0,   0,   0,   0,   0,   0,   0,   0,   0,  14,   1, 154, 253,\n",
       "         90,   0,   0,   0,   0,   0,   0,   0,   0,   0,   0,   0,   0,\n",
       "          0,   0],\n",
       "       [  0,   0,   0,   0,   0,   0,   0,   0,   0,   0,   0, 139, 253,\n",
       "        190,   2,   0,   0,   0,   0,   0,   0,   0,   0,   0,   0,   0,\n",
       "          0,   0],\n",
       "       [  0,   0,   0,   0,   0,   0,   0,   0,   0,   0,   0,  11, 190,\n",
       "        253,  70,   0,   0,   0,   0,   0,   0,   0,   0,   0,   0,   0,\n",
       "          0,   0],\n",
       "       [  0,   0,   0,   0,   0,   0,   0,   0,   0,   0,   0,   0,  35,\n",
       "        241, 225, 160, 108,   1,   0,   0,   0,   0,   0,   0,   0,   0,\n",
       "          0,   0],\n",
       "       [  0,   0,   0,   0,   0,   0,   0,   0,   0,   0,   0,   0,   0,\n",
       "         81, 240, 253, 253, 119,  25,   0,   0,   0,   0,   0,   0,   0,\n",
       "          0,   0],\n",
       "       [  0,   0,   0,   0,   0,   0,   0,   0,   0,   0,   0,   0,   0,\n",
       "          0,  45, 186, 253, 253, 150,  27,   0,   0,   0,   0,   0,   0,\n",
       "          0,   0],\n",
       "       [  0,   0,   0,   0,   0,   0,   0,   0,   0,   0,   0,   0,   0,\n",
       "          0,   0,  16,  93, 252, 253, 187,   0,   0,   0,   0,   0,   0,\n",
       "          0,   0],\n",
       "       [  0,   0,   0,   0,   0,   0,   0,   0,   0,   0,   0,   0,   0,\n",
       "          0,   0,   0,   0, 249, 253, 249,  64,   0,   0,   0,   0,   0,\n",
       "          0,   0],\n",
       "       [  0,   0,   0,   0,   0,   0,   0,   0,   0,   0,   0,   0,   0,\n",
       "          0,  46, 130, 183, 253, 253, 207,   2,   0,   0,   0,   0,   0,\n",
       "          0,   0],\n",
       "       [  0,   0,   0,   0,   0,   0,   0,   0,   0,   0,   0,   0,  39,\n",
       "        148, 229, 253, 253, 253, 250, 182,   0,   0,   0,   0,   0,   0,\n",
       "          0,   0],\n",
       "       [  0,   0,   0,   0,   0,   0,   0,   0,   0,   0,  24, 114, 221,\n",
       "        253, 253, 253, 253, 201,  78,   0,   0,   0,   0,   0,   0,   0,\n",
       "          0,   0],\n",
       "       [  0,   0,   0,   0,   0,   0,   0,   0,  23,  66, 213, 253, 253,\n",
       "        253, 253, 198,  81,   2,   0,   0,   0,   0,   0,   0,   0,   0,\n",
       "          0,   0],\n",
       "       [  0,   0,   0,   0,   0,   0,  18, 171, 219, 253, 253, 253, 253,\n",
       "        195,  80,   9,   0,   0,   0,   0,   0,   0,   0,   0,   0,   0,\n",
       "          0,   0],\n",
       "       [  0,   0,   0,   0,  55, 172, 226, 253, 253, 253, 253, 244, 133,\n",
       "         11,   0,   0,   0,   0,   0,   0,   0,   0,   0,   0,   0,   0,\n",
       "          0,   0],\n",
       "       [  0,   0,   0,   0, 136, 253, 253, 253, 212, 135, 132,  16,   0,\n",
       "          0,   0,   0,   0,   0,   0,   0,   0,   0,   0,   0,   0,   0,\n",
       "          0,   0],\n",
       "       [  0,   0,   0,   0,   0,   0,   0,   0,   0,   0,   0,   0,   0,\n",
       "          0,   0,   0,   0,   0,   0,   0,   0,   0,   0,   0,   0,   0,\n",
       "          0,   0],\n",
       "       [  0,   0,   0,   0,   0,   0,   0,   0,   0,   0,   0,   0,   0,\n",
       "          0,   0,   0,   0,   0,   0,   0,   0,   0,   0,   0,   0,   0,\n",
       "          0,   0],\n",
       "       [  0,   0,   0,   0,   0,   0,   0,   0,   0,   0,   0,   0,   0,\n",
       "          0,   0,   0,   0,   0,   0,   0,   0,   0,   0,   0,   0,   0,\n",
       "          0,   0]], dtype=uint8)"
      ]
     },
     "execution_count": 7,
     "metadata": {},
     "output_type": "execute_result"
    }
   ],
   "source": [
    "X_train[0]"
   ]
  },
  {
   "cell_type": "code",
   "execution_count": 8,
   "id": "dd8aba45",
   "metadata": {},
   "outputs": [],
   "source": [
    "# matplotlib로 시각화하기\n",
    "import matplotlib.pyplot as plt"
   ]
  },
  {
   "cell_type": "code",
   "execution_count": 9,
   "id": "38a5984c",
   "metadata": {},
   "outputs": [
    {
     "data": {
      "image/png": "[encoded data removed]",
      "text/plain": [
       "<Figure size 432x288 with 1 Axes>"
      ]
     },
     "metadata": {
      "needs_background": "light"
     },
     "output_type": "display_data"
    }
   ],
   "source": [
    "plt.imshow(X_train[0], cmap='gray')\n",
    "plt.show()"
   ]
  },
  {
   "cell_type": "code",
   "execution_count": 10,
   "id": "318e896d",
   "metadata": {},
   "outputs": [
    {
     "data": {
      "image/png": "[encoded data removed]",
      "text/plain": [
       "<Figure size 432x288 with 1 Axes>"
      ]
     },
     "metadata": {
      "needs_background": "light"
     },
     "output_type": "display_data"
    }
   ],
   "source": [
    "plt.imshow(X_train[7986], cmap='gray')\n",
    "plt.show()"
   ]
  },
  {
   "cell_type": "markdown",
   "id": "24febca5",
   "metadata": {},
   "source": [
    "###  모델링"
   ]
  },
  {
   "cell_type": "code",
   "execution_count": 11,
   "id": "c166eebf",
   "metadata": {},
   "outputs": [],
   "source": [
    "from tensorflow.keras.models import Sequential # 딥러닝 모델의 뼈대\n",
    "from tensorflow.keras.layers import InputLayer, Dense #입력층, 중간/출력층"
   ]
  },
  {
   "cell_type": "code",
   "execution_count": 14,
   "id": "3c7c60f4",
   "metadata": {},
   "outputs": [],
   "source": [
    "model = Sequential() # 딥러닝 모델의 뼈대생성\n",
    "model.add(InputLayer(input_shape=(784,))) #입력층 \n",
    "model.add(Dense(units=20,activation='sigmoid')) #중간층 추가\n",
    "model.add(Dense(units=40,activation='sigmoid')) #중간층 추가\n",
    "model.add(Dense(units=30,activation='sigmoid')) #중간층 추가\n",
    "model.add(Dense(units=10,activation='softmax')) #출력층 추가 (10개의 확률)"
   ]
  },
  {
   "cell_type": "code",
   "execution_count": 18,
   "id": "8c748ce1",
   "metadata": {
    "scrolled": true
   },
   "outputs": [
    {
     "name": "stdout",
     "output_type": "stream",
     "text": [
      "Epoch 1/50\n",
      "1875/1875 [==============================] - 1s 465us/step - loss: 1.2429 - accuracy: 0.63280s - loss: 1.7\n",
      "Epoch 2/50\n",
      "1875/1875 [==============================] - 1s 457us/step - loss: 0.6213 - accuracy: 0.8119\n",
      "Epoch 3/50\n",
      "1875/1875 [==============================] - 1s 464us/step - loss: 0.5481 - accuracy: 0.8327\n",
      "Epoch 4/50\n",
      "1875/1875 [==============================] - 1s 462us/step - loss: 0.4965 - accuracy: 0.8488\n",
      "Epoch 5/50\n",
      "1875/1875 [==============================] - 1s 470us/step - loss: 0.4669 - accuracy: 0.8581\n",
      "Epoch 6/50\n",
      "1875/1875 [==============================] - 1s 473us/step - loss: 0.4451 - accuracy: 0.8632\n",
      "Epoch 7/50\n",
      "1875/1875 [==============================] - 1s 466us/step - loss: 0.4294 - accuracy: 0.8683\n",
      "Epoch 8/50\n",
      "1875/1875 [==============================] - 1s 464us/step - loss: 0.4158 - accuracy: 0.8726\n",
      "Epoch 9/50\n",
      "1875/1875 [==============================] - 1s 460us/step - loss: 0.4026 - accuracy: 0.8782\n",
      "Epoch 10/50\n",
      "1875/1875 [==============================] - 1s 462us/step - loss: 0.3945 - accuracy: 0.8798\n",
      "Epoch 11/50\n",
      "1875/1875 [==============================] - 1s 461us/step - loss: 0.4023 - accuracy: 0.8767\n",
      "Epoch 12/50\n",
      "1875/1875 [==============================] - 1s 461us/step - loss: 0.3805 - accuracy: 0.8838\n",
      "Epoch 13/50\n",
      "1875/1875 [==============================] - 1s 462us/step - loss: 0.3876 - accuracy: 0.8832\n",
      "Epoch 14/50\n",
      "1875/1875 [==============================] - 1s 461us/step - loss: 0.3866 - accuracy: 0.8849\n",
      "Epoch 15/50\n",
      "1875/1875 [==============================] - 1s 462us/step - loss: 0.3584 - accuracy: 0.8907\n",
      "Epoch 16/50\n",
      "1875/1875 [==============================] - 1s 461us/step - loss: 0.3578 - accuracy: 0.8926\n",
      "Epoch 17/50\n",
      "1875/1875 [==============================] - 1s 461us/step - loss: 0.3494 - accuracy: 0.8974\n",
      "Epoch 18/50\n",
      "1875/1875 [==============================] - 1s 461us/step - loss: 0.3625 - accuracy: 0.8919\n",
      "Epoch 19/50\n",
      "1875/1875 [==============================] - 1s 461us/step - loss: 0.3441 - accuracy: 0.8956\n",
      "Epoch 20/50\n",
      "1875/1875 [==============================] - 1s 461us/step - loss: 0.3510 - accuracy: 0.8925\n",
      "Epoch 21/50\n",
      "1875/1875 [==============================] - 1s 461us/step - loss: 0.3491 - accuracy: 0.8950\n",
      "Epoch 22/50\n",
      "1875/1875 [==============================] - 1s 459us/step - loss: 0.3341 - accuracy: 0.9010\n",
      "Epoch 23/50\n",
      "1875/1875 [==============================] - 1s 467us/step - loss: 0.3243 - accuracy: 0.9039\n",
      "Epoch 24/50\n",
      "1875/1875 [==============================] - 1s 480us/step - loss: 0.3294 - accuracy: 0.9006\n",
      "Epoch 25/50\n",
      "1875/1875 [==============================] - 1s 488us/step - loss: 0.3223 - accuracy: 0.9031\n",
      "Epoch 26/50\n",
      "1875/1875 [==============================] - 1s 483us/step - loss: 0.3122 - accuracy: 0.9073\n",
      "Epoch 27/50\n",
      "1875/1875 [==============================] - 1s 477us/step - loss: 0.3170 - accuracy: 0.9062\n",
      "Epoch 28/50\n",
      "1875/1875 [==============================] - 1s 480us/step - loss: 0.3232 - accuracy: 0.9035\n",
      "Epoch 29/50\n",
      "1875/1875 [==============================] - 1s 466us/step - loss: 0.3137 - accuracy: 0.9064\n",
      "Epoch 30/50\n",
      "1875/1875 [==============================] - 1s 466us/step - loss: 0.3116 - accuracy: 0.9056\n",
      "Epoch 31/50\n",
      "1875/1875 [==============================] - 1s 464us/step - loss: 0.3144 - accuracy: 0.9061\n",
      "Epoch 32/50\n",
      "1875/1875 [==============================] - 1s 476us/step - loss: 0.3050 - accuracy: 0.9084\n",
      "Epoch 33/50\n",
      "1875/1875 [==============================] - 1s 475us/step - loss: 0.3013 - accuracy: 0.9093\n",
      "Epoch 34/50\n",
      "1875/1875 [==============================] - 1s 486us/step - loss: 0.3082 - accuracy: 0.9082\n",
      "Epoch 35/50\n",
      "1875/1875 [==============================] - 1s 493us/step - loss: 0.3060 - accuracy: 0.9108\n",
      "Epoch 36/50\n",
      "1875/1875 [==============================] - 1s 459us/step - loss: 0.2956 - accuracy: 0.9137\n",
      "Epoch 37/50\n",
      "1875/1875 [==============================] - 1s 458us/step - loss: 0.2935 - accuracy: 0.9130\n",
      "Epoch 38/50\n",
      "1875/1875 [==============================] - 1s 458us/step - loss: 0.2878 - accuracy: 0.9140\n",
      "Epoch 39/50\n",
      "1875/1875 [==============================] - 1s 457us/step - loss: 0.2896 - accuracy: 0.9121\n",
      "Epoch 40/50\n",
      "1875/1875 [==============================] - 1s 460us/step - loss: 0.2971 - accuracy: 0.9113\n",
      "Epoch 41/50\n",
      "1875/1875 [==============================] - 1s 460us/step - loss: 0.2871 - accuracy: 0.9146\n",
      "Epoch 42/50\n",
      "1875/1875 [==============================] - 1s 494us/step - loss: 0.2854 - accuracy: 0.9146\n",
      "Epoch 43/50\n",
      "1875/1875 [==============================] - 1s 462us/step - loss: 0.2867 - accuracy: 0.9158\n",
      "Epoch 44/50\n",
      "1875/1875 [==============================] - 1s 462us/step - loss: 0.2958 - accuracy: 0.9125\n",
      "Epoch 45/50\n",
      "1875/1875 [==============================] - 1s 461us/step - loss: 0.2834 - accuracy: 0.9137\n",
      "Epoch 46/50\n",
      "1875/1875 [==============================] - 1s 462us/step - loss: 0.2674 - accuracy: 0.9198\n",
      "Epoch 47/50\n",
      "1875/1875 [==============================] - 1s 462us/step - loss: 0.2699 - accuracy: 0.9204\n",
      "Epoch 48/50\n",
      "1875/1875 [==============================] - 1s 459us/step - loss: 0.2747 - accuracy: 0.9191\n",
      "Epoch 49/50\n",
      "1875/1875 [==============================] - 1s 458us/step - loss: 0.2739 - accuracy: 0.9178\n",
      "Epoch 50/50\n",
      "1875/1875 [==============================] - 1s 459us/step - loss: 0.2646 - accuracy: 0.9224\n"
     ]
    },
    {
     "data": {
      "text/plain": [
       "<tensorflow.python.keras.callbacks.History at 0x18e1e57efc8>"
      ]
     },
     "execution_count": 18,
     "metadata": {},
     "output_type": "execute_result"
    }
   ],
   "source": [
    "#모델 학습\n",
    "#1. 모델의 학습 방법 및 평가방법 설정, loss와 optmizer는 어떻게 학습을 할것인지 정하는 역할\n",
    "model.compile(loss=\"sparse_categorical_crossentropy\",\n",
    "             optimizer='Adam',\n",
    "             metrics = ['accuracy'])\n",
    "#2. 모델학습\n",
    "model.fit(X_train.reshape(60000,784),y_train,epochs = 50) #epochs : 데이터 학습 횟수"
   ]
  },
  {
   "cell_type": "code",
   "execution_count": 21,
   "id": "81013eb0",
   "metadata": {
    "scrolled": false
   },
   "outputs": [],
   "source": [
    "#모델 예측\n",
    "pre = model.predict(X_test.reshape(10000,784))"
   ]
  },
  {
   "cell_type": "code",
   "execution_count": 23,
   "id": "bb3d0f43",
   "metadata": {},
   "outputs": [
    {
     "data": {
      "text/plain": [
       "(10000, 10)"
      ]
     },
     "execution_count": 23,
     "metadata": {},
     "output_type": "execute_result"
    }
   ],
   "source": [
    "pre.shape"
   ]
  },
  {
   "cell_type": "code",
   "execution_count": 24,
   "id": "5c5cd57d",
   "metadata": {},
   "outputs": [
    {
     "data": {
      "image/png": "[encoded data removed]",
      "text/plain": [
       "<Figure size 432x288 with 1 Axes>"
      ]
     },
     "metadata": {
      "needs_background": "light"
     },
     "output_type": "display_data"
    }
   ],
   "source": [
    "plt.imshow(X_test[0])\n",
    "plt.show()"
   ]
  },
  {
   "cell_type": "code",
   "execution_count": 25,
   "id": "6fc26c6f",
   "metadata": {},
   "outputs": [
    {
     "data": {
      "text/plain": [
       "array([2.6245241e-06, 4.4257790e-06, 1.0401753e-04, 5.3870253e-04,\n",
       "       4.4040748e-06, 6.7712288e-05, 4.0117740e-09, 9.9826366e-01,\n",
       "       3.0311053e-06, 1.0115061e-03], dtype=float32)"
      ]
     },
     "execution_count": 25,
     "metadata": {},
     "output_type": "execute_result"
    }
   ],
   "source": [
    "pre[0]"
   ]
  },
  {
   "cell_type": "code",
   "execution_count": 30,
   "id": "0535081e",
   "metadata": {},
   "outputs": [],
   "source": [
    "#모델평가\n",
    "pre_classes=pre.argmax(axis=1)"
   ]
  },
  {
   "cell_type": "code",
   "execution_count": 31,
   "id": "a06441fc",
   "metadata": {},
   "outputs": [
    {
     "data": {
      "text/plain": [
       "array([7, 2, 1, ..., 4, 5, 6], dtype=int64)"
      ]
     },
     "execution_count": 31,
     "metadata": {},
     "output_type": "execute_result"
    }
   ],
   "source": [
    "pre_classes"
   ]
  },
  {
   "cell_type": "code",
   "execution_count": 27,
   "id": "ae962a80",
   "metadata": {},
   "outputs": [
    {
     "name": "stdout",
     "output_type": "stream",
     "text": [
      "Collecting sklearn\n",
      "  Downloading sklearn-0.0.tar.gz (1.1 kB)\n",
      "Collecting scikit-learn\n",
      "  Downloading scikit_learn-1.0.2-cp37-cp37m-win_amd64.whl (7.1 MB)\n",
      "Collecting joblib>=0.11\n",
      "  Downloading joblib-1.1.0-py2.py3-none-any.whl (306 kB)\n",
      "Collecting threadpoolctl>=2.0.0\n",
      "  Downloading threadpoolctl-3.1.0-py3-none-any.whl (14 kB)\n",
      "Requirement already satisfied: scipy>=1.1.0 in c:\\users\\smhrd\\anaconda3\\envs\\animal\\lib\\site-packages (from scikit-learn->sklearn) (1.7.3)\n",
      "Requirement already satisfied: numpy>=1.14.6 in c:\\users\\smhrd\\anaconda3\\envs\\animal\\lib\\site-packages (from scikit-learn->sklearn) (1.21.5)\n",
      "Building wheels for collected packages: sklearn\n",
      "  Building wheel for sklearn (setup.py): started\n",
      "  Building wheel for sklearn (setup.py): finished with status 'done'\n",
      "  Created wheel for sklearn: filename=sklearn-0.0-py2.py3-none-any.whl size=1310 sha256=e32208b20c4ed1212565055a415d24c710bf4ec5da5de21fcaa0b2acfe60663f\n",
      "  Stored in directory: c:\\users\\smhrd\\appdata\\local\\pip\\cache\\wheels\\46\\ef\\c3\\157e41f5ee1372d1be90b09f74f82b10e391eaacca8f22d33e\n",
      "Successfully built sklearn\n",
      "Installing collected packages: threadpoolctl, joblib, scikit-learn, sklearn\n",
      "Successfully installed joblib-1.1.0 scikit-learn-1.0.2 sklearn-0.0 threadpoolctl-3.1.0\n"
     ]
    }
   ],
   "source": [
    "!pip install sklearn"
   ]
  },
  {
   "cell_type": "code",
   "execution_count": 35,
   "id": "8472c249",
   "metadata": {},
   "outputs": [],
   "source": [
    "from sklearn.metrics import accuracy_score"
   ]
  },
  {
   "cell_type": "code",
   "execution_count": 32,
   "id": "c28141aa",
   "metadata": {},
   "outputs": [
    {
     "data": {
      "text/plain": [
       "0.9207"
      ]
     },
     "execution_count": 32,
     "metadata": {},
     "output_type": "execute_result"
    }
   ],
   "source": [
    "accuracy_score(y_test,pre_classes)"
   ]
  },
  {
   "cell_type": "code",
   "execution_count": 34,
   "id": "5bcd7845",
   "metadata": {},
   "outputs": [
    {
     "name": "stdout",
     "output_type": "stream",
     "text": [
      "313/313 [==============================] - 0s 348us/step - loss: 0.2713 - accuracy: 0.9207\n"
     ]
    },
    {
     "data": {
      "text/plain": [
       "[0.2712835967540741, 0.9207000136375427]"
      ]
     },
     "execution_count": 34,
     "metadata": {},
     "output_type": "execute_result"
    }
   ],
   "source": [
    "#model 내부에 평가함수\n",
    "model.evaluate(X_test.reshape(10000,784),y_test)"
   ]
  },
  {
   "cell_type": "markdown",
   "id": "b8b9aae4",
   "metadata": {},
   "source": [
    "### 모델저장"
   ]
  },
  {
   "cell_type": "code",
   "execution_count": 36,
   "id": "fdefbe66",
   "metadata": {},
   "outputs": [],
   "source": [
    "model.save(\"./hand_write_digit_model.h5\")"
   ]
  },
  {
   "cell_type": "code",
   "execution_count": null,
   "id": "641b2cd2",
   "metadata": {},
   "outputs": [],
   "source": []
  },
  {
   "cell_type": "code",
   "execution_count": null,
   "id": "30a72229",
   "metadata": {},
   "outputs": [],
   "source": []
  },
  {
   "cell_type": "code",
   "execution_count": null,
   "id": "d5027e97",
   "metadata": {},
   "outputs": [],
   "source": []
  },
  {
   "cell_type": "code",
   "execution_count": null,
   "id": "e95ba4af",
   "metadata": {},
   "outputs": [],
   "source": []
  },
  {
   "cell_type": "code",
   "execution_count": null,
   "id": "35438a6a",
   "metadata": {},
   "outputs": [],
   "source": []
  },
  {
   "cell_type": "code",
   "execution_count": null,
   "id": "f2d38c9b",
   "metadata": {},
   "outputs": [],
   "source": []
  },
  {
   "cell_type": "code",
   "execution_count": null,
   "id": "cc5523ec",
   "metadata": {},
   "outputs": [],
   "source": []
  },
  {
   "cell_type": "code",
   "execution_count": null,
   "id": "8d4953d9",
   "metadata": {},
   "outputs": [],
   "source": []
  },
  {
   "cell_type": "code",
   "execution_count": null,
   "id": "55744c45",
   "metadata": {},
   "outputs": [],
   "source": []
  },
  {
   "cell_type": "code",
   "execution_count": null,
   "id": "da52da9a",
   "metadata": {},
   "outputs": [],
   "source": []
  },
  {
   "cell_type": "code",
   "execution_count": null,
   "id": "5f6df769",
   "metadata": {},
   "outputs": [],
   "source": []
  },
  {
   "cell_type": "code",
   "execution_count": null,
   "id": "270bc7be",
   "metadata": {},
   "outputs": [],
   "source": []
  },
  {
   "cell_type": "code",
   "execution_count": null,
   "id": "8c0e99b5",
   "metadata": {},
   "outputs": [],
   "source": []
  },
  {
   "cell_type": "code",
   "execution_count": null,
   "id": "20edfc2d",
   "metadata": {},
   "outputs": [],
   "source": []
  },
  {
   "cell_type": "code",
   "execution_count": null,
   "id": "8937a3dc",
   "metadata": {},
   "outputs": [],
   "source": []
  },
  {
   "cell_type": "code",
   "execution_count": null,
   "id": "aff4ef71",
   "metadata": {},
   "outputs": [],
   "source": []
  },
  {
   "cell_type": "code",
   "execution_count": null,
   "id": "9cb7a44c",
   "metadata": {},
   "outputs": [],
   "source": []
  },
  {
   "cell_type": "code",
   "execution_count": null,
   "id": "72c9c220",
   "metadata": {},
   "outputs": [],
   "source": []
  },
  {
   "cell_type": "code",
   "execution_count": null,
   "id": "14873971",
   "metadata": {},
   "outputs": [],
   "source": []
  },
  {
   "cell_type": "code",
   "execution_count": null,
   "id": "3f777e19",
   "metadata": {},
   "outputs": [],
   "source": []
  },
  {
   "cell_type": "code",
   "execution_count": null,
   "id": "adc73ad7",
   "metadata": {},
   "outputs": [],
   "source": []
  },
  {
   "cell_type": "code",
   "execution_count": null,
   "id": "213584f8",
   "metadata": {},
   "outputs": [],
   "source": []
  },
  {
   "cell_type": "code",
   "execution_count": null,
   "id": "bc799832",
   "metadata": {},
   "outputs": [],
   "source": []
  },
  {
   "cell_type": "code",
   "execution_count": null,
   "id": "530df53e",
   "metadata": {},
   "outputs": [],
   "source": []
  },
  {
   "cell_type": "code",
   "execution_count": null,
   "id": "2f5c1764",
   "metadata": {},
   "outputs": [],
   "source": []
  },
  {
   "cell_type": "code",
   "execution_count": null,
   "id": "3924db72",
   "metadata": {},
   "outputs": [],
   "source": []
  },
  {
   "cell_type": "code",
   "execution_count": null,
   "id": "1c62fc03",
   "metadata": {},
   "outputs": [],
   "source": []
  },
  {
   "cell_type": "code",
   "execution_count": null,
   "id": "b4a6c7c8",
   "metadata": {},
   "outputs": [],
   "source": []
  },
  {
   "cell_type": "code",
   "execution_count": null,
   "id": "f55b29c3",
   "metadata": {},
   "outputs": [],
   "source": []
  },
  {
   "cell_type": "code",
   "execution_count": null,
   "id": "2a543e51",
   "metadata": {},
   "outputs": [],
   "source": []
  },
  {
   "cell_type": "code",
   "execution_count": null,
   "id": "1859a1d2",
   "metadata": {},
   "outputs": [],
   "source": []
  },
  {
   "cell_type": "code",
   "execution_count": null,
   "id": "96209261",
   "metadata": {},
   "outputs": [],
   "source": []
  },
  {
   "cell_type": "code",
   "execution_count": null,
   "id": "f49c90cb",
   "metadata": {},
   "outputs": [],
   "source": []
  },
  {
   "cell_type": "code",
   "execution_count": null,
   "id": "0dbdfc2a",
   "metadata": {},
   "outputs": [],
   "source": []
  },
  {
   "cell_type": "code",
   "execution_count": null,
   "id": "b069f0ea",
   "metadata": {},
   "outputs": [],
   "source": []
  },
  {
   "cell_type": "code",
   "execution_count": null,
   "id": "43c1a0b3",
   "metadata": {},
   "outputs": [],
   "source": []
  },
  {
   "cell_type": "code",
   "execution_count": null,
   "id": "dd08c588",
   "metadata": {},
   "outputs": [],
   "source": []
  },
  {
   "cell_type": "code",
   "execution_count": null,
   "id": "45b2268b",
   "metadata": {},
   "outputs": [],
   "source": []
  },
  {
   "cell_type": "code",
   "execution_count": null,
   "id": "def3b4d8",
   "metadata": {},
   "outputs": [],
   "source": []
  },
  {
   "cell_type": "code",
   "execution_count": null,
   "id": "644de01d",
   "metadata": {},
   "outputs": [],
   "source": []
  },
  {
   "cell_type": "code",
   "execution_count": null,
   "id": "619f58e7",
   "metadata": {},
   "outputs": [],
   "source": []
  },
  {
   "cell_type": "code",
   "execution_count": null,
   "id": "95c92227",
   "metadata": {},
   "outputs": [],
   "source": []
  },
  {
   "cell_type": "code",
   "execution_count": null,
   "id": "b11eeb84",
   "metadata": {},
   "outputs": [],
   "source": []
  },
  {
   "cell_type": "code",
   "execution_count": null,
   "id": "0d6abb54",
   "metadata": {},
   "outputs": [],
   "source": []
  },
  {
   "cell_type": "code",
   "execution_count": null,
   "id": "8f6c9b6f",
   "metadata": {},
   "outputs": [],
   "source": []
  }
 ],
 "metadata": {
  "kernelspec": {
   "display_name": "Python 3 (ipykernel)",
   "language": "python",
   "name": "python3"
  },
  "language_info": {
   "codemirror_mode": {
    "name": "ipython",
    "version": 3
   },
   "file_extension": ".py",
   "mimetype": "text/x-python",
   "name": "python",
   "nbconvert_exporter": "python",
   "pygments_lexer": "ipython3",
   "version": "3.7.13"
  }
 },
 "nbformat": 4,
 "nbformat_minor": 5
}
